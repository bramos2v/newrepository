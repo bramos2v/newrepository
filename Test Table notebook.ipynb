{
    "cells": [
        {
            "metadata": {},
            "cell_type": "markdown",
            "source": "#Description\nimports a data file as a data frame using pandas"
        },
        {
            "metadata": {},
            "cell_type": "code",
            "source": "\nimport os, types\nimport pandas as pd\nfrom botocore.client import Config\nimport ibm_boto3\n\ndef __iter__(self): return 0\n\n# @hidden_cell\n# The following code accesses a file in your IBM Cloud Object Storage. It includes your credentials.\n# You might want to remove those credentials before you share the notebook.\n\nif os.environ.get('RUNTIME_ENV_LOCATION_TYPE') == 'external':\n    endpoint_96c2df7aa5674ea985e923f1b507f17d = 'https://s3.us.cloud-object-storage.appdomain.cloud'\nelse:\n    endpoint_96c2df7aa5674ea985e923f1b507f17d = 'https://s3.private.us.cloud-object-storage.appdomain.cloud'\n\nclient_96c2df7aa5674ea985e923f1b507f17d = ibm_boto3.client(service_name='s3',\n    ibm_api_key_id='dfnKqeUhA6ZiMCz_D-8RuyW0Xm4lq0q-lL69TS6P_M5p',\n    ibm_auth_endpoint=\"https://iam.cloud.ibm.com/oidc/token\",\n    config=Config(signature_version='oauth'),\n    endpoint_url=endpoint_96c2df7aa5674ea985e923f1b507f17d)\n\nbody = client_96c2df7aa5674ea985e923f1b507f17d.get_object(Bucket='testwatsonstudioproject-donotdelete-pr-jiw63o3r91y5yr',Key='table.csv')['Body']\n# add missing __iter__ method, so pandas accepts body as file-like object\nif not hasattr(body, \"__iter__\"): body.__iter__ = types.MethodType( __iter__, body )\n\ndf_data_1 = pd.read_csv(body)\ndf_data_1.head()\n",
            "execution_count": 1,
            "outputs": [
                {
                    "output_type": "execute_result",
                    "execution_count": 1,
                    "data": {
                        "text/plain": "         Date  Open  High   Low  Close   Volume  Adj Close\n0  2016-09-07  2.39  2.39  2.39   2.39        0       2.39\n1  2016-09-06  2.39  2.40  2.39   2.39  2043200       2.39\n2  2016-09-02  2.39  2.40  2.39   2.40   526300       2.40\n3  2016-09-01  2.39  2.40  2.39   2.40   613900       2.40\n4  2016-08-31  2.39  2.40  2.39   2.39   850200       2.39",
                        "text/html": "<div>\n<style scoped>\n    .dataframe tbody tr th:only-of-type {\n        vertical-align: middle;\n    }\n\n    .dataframe tbody tr th {\n        vertical-align: top;\n    }\n\n    .dataframe thead th {\n        text-align: right;\n    }\n</style>\n<table border=\"1\" class=\"dataframe\">\n  <thead>\n    <tr style=\"text-align: right;\">\n      <th></th>\n      <th>Date</th>\n      <th>Open</th>\n      <th>High</th>\n      <th>Low</th>\n      <th>Close</th>\n      <th>Volume</th>\n      <th>Adj Close</th>\n    </tr>\n  </thead>\n  <tbody>\n    <tr>\n      <th>0</th>\n      <td>2016-09-07</td>\n      <td>2.39</td>\n      <td>2.39</td>\n      <td>2.39</td>\n      <td>2.39</td>\n      <td>0</td>\n      <td>2.39</td>\n    </tr>\n    <tr>\n      <th>1</th>\n      <td>2016-09-06</td>\n      <td>2.39</td>\n      <td>2.40</td>\n      <td>2.39</td>\n      <td>2.39</td>\n      <td>2043200</td>\n      <td>2.39</td>\n    </tr>\n    <tr>\n      <th>2</th>\n      <td>2016-09-02</td>\n      <td>2.39</td>\n      <td>2.40</td>\n      <td>2.39</td>\n      <td>2.40</td>\n      <td>526300</td>\n      <td>2.40</td>\n    </tr>\n    <tr>\n      <th>3</th>\n      <td>2016-09-01</td>\n      <td>2.39</td>\n      <td>2.40</td>\n      <td>2.39</td>\n      <td>2.40</td>\n      <td>613900</td>\n      <td>2.40</td>\n    </tr>\n    <tr>\n      <th>4</th>\n      <td>2016-08-31</td>\n      <td>2.39</td>\n      <td>2.40</td>\n      <td>2.39</td>\n      <td>2.39</td>\n      <td>850200</td>\n      <td>2.39</td>\n    </tr>\n  </tbody>\n</table>\n</div>"
                    },
                    "metadata": {}
                }
            ]
        },
        {
            "metadata": {},
            "cell_type": "code",
            "source": "",
            "execution_count": null,
            "outputs": []
        }
    ],
    "metadata": {
        "kernelspec": {
            "name": "python3",
            "display_name": "Python 3.7",
            "language": "python"
        },
        "language_info": {
            "name": "python",
            "version": "3.7.10",
            "mimetype": "text/x-python",
            "codemirror_mode": {
                "name": "ipython",
                "version": 3
            },
            "pygments_lexer": "ipython3",
            "nbconvert_exporter": "python",
            "file_extension": ".py"
        }
    },
    "nbformat": 4,
    "nbformat_minor": 1
}