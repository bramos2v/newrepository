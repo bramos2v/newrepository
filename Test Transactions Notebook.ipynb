{
    "cells": [
        {
            "metadata": {},
            "cell_type": "code",
            "source": "\n// @hidden_cell\nimport com.ibm.ibmos2spark.CloudObjectStorage\nvar configurationName = \"os_96c2df7aa5674ea985e923f1b507f17d_configs\"\n\nvar endpoint_96c2df7aa5674ea985e923f1b507f17d = \"https://s3.private.us.cloud-object-storage.appdomain.cloud\"\nif (System.getenv(\"RUNTIME_ENV_LOCATION_TYPE\") == \"external\") {\n    endpoint_96c2df7aa5674ea985e923f1b507f17d = \"https://s3.us.cloud-object-storage.appdomain.cloud\"\n}\n\ndef getCredentials(): scala.collection.mutable.HashMap[String, String] = {\n    return scala.collection.mutable.HashMap[String, String] (\n    \"endPoint\"-> endpoint_96c2df7aa5674ea985e923f1b507f17d,\n    \"apiKey\"->\"dfnKqeUhA6ZiMCz_D-8RuyW0Xm4lq0q-lL69TS6P_M5p\",\n    \"serviceId\"->\"iam-ServiceId-58c807a0-ace2-4118-986f-ae1188a8b0a8\",\n    \"iamServiceEndpoint\" -> \"https://iam.cloud.ibm.com/oidc/token\")\n}\n\nvar cos = new CloudObjectStorage(sc, getCredentials(), configurationName, \"bluemix_cos\")\n\nimport org.apache.spark.sql.SparkSession\nval spark = SparkSession.\n    builder().\n    getOrCreate()\nval dfData1 = spark.\n    read.format(\"org.apache.spark.sql.execution.datasources.csv.CSVFileFormat\").\n    option(\"header\", \"true\").\n    option(\"inferSchema\", \"true\").\n    load(cos.url(\"testwatsonstudioproject-donotdelete-pr-jiw63o3r91y5yr\", \"transactions.csv\"))\ndfData1.show(5)\n\n\n",
            "execution_count": 3,
            "outputs": [
                {
                    "output_type": "stream",
                    "text": "+---------+--------------------+--------------------+-------+----------------+---------------+-----------------+-----------------+-----+\n|     Date|         Description|Original Description| Amount|Transaction Type|       Category|     Account Name|           Labels|Notes|\n+---------+--------------------+--------------------+-------+----------------+---------------+-----------------+-----------------+-----+\n|4/14/2020|VRBO DIRECT PAY 0...|VRBO             ...|  722.2|           debit|  Rental Income|  SHARED CHECKING|Personal Business| null|\n|3/06/2020|WF HOME MTG AUTO ...|WF HOME MTG      ...|1571.66|           debit|Mortgage & Rent|BUSINESS CHECKING|Personal Business| null|\n|3/06/2020|                AT&T|    ATT*BILL PAYMENT|   90.0|           debit|       Internet|Business Ink Card|Personal Business| null|\n|3/03/2020|     Homeaway Ppd Id|HomeAway         ...| 871.01|          credit|         Income|  SHARED CHECKING|Personal Business| null|\n|3/02/2020|SNMC LOAN PAYMT P...|SNMC             ...| 900.44|           debit|Mortgage & Rent|BUSINESS CHECKING|Personal Business| null|\n+---------+--------------------+--------------------+-------+----------------+---------------+-----------------+-----------------+-----+\nonly showing top 5 rows\n\n",
                    "name": "stdout"
                },
                {
                    "output_type": "display_data",
                    "data": {
                        "text/plain": "configurationName = os_96c2df7aa5674ea985e923f1b507f17d_configs\nendpoint_96c2df7aa5674ea985e923f1b507f17d = https://s3.private.us.cloud-object-storage.appdomain.cloud\ncos = com.ibm.ibmos2spark.CloudObjectStorage@34524227\nspark = org.apache.spark.sql.SparkSession@e8688f17\ndfData1 = [Date: string, Description: string ... 7 more fields]\n"
                    },
                    "metadata": {}
                },
                {
                    "output_type": "display_data",
                    "data": {
                        "text/plain": "getCredentials: ()scala.collection.mutable.HashMap[String,String]\n"
                    },
                    "metadata": {}
                },
                {
                    "output_type": "execute_result",
                    "execution_count": 3,
                    "data": {
                        "text/plain": "[Date: string, Description: string ... 7 more fields]"
                    },
                    "metadata": {}
                }
            ]
        },
        {
            "metadata": {},
            "cell_type": "code",
            "source": "",
            "execution_count": null,
            "outputs": []
        }
    ],
    "metadata": {
        "kernelspec": {
            "name": "scala",
            "display_name": "Scala 2.11 with Spark",
            "language": "scala"
        },
        "language_info": {
            "mimetype": "text/x-scala",
            "name": "scala",
            "pygments_lexer": "scala",
            "version": "2.11.12",
            "file_extension": ".scala",
            "codemirror_mode": "text/x-scala"
        }
    },
    "nbformat": 4,
    "nbformat_minor": 1
}